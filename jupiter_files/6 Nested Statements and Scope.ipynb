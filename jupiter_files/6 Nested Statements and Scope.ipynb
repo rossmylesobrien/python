{
 "cells": [
  {
   "cell_type": "code",
   "execution_count": 1,
   "metadata": {},
   "outputs": [
    {
     "name": "stdout",
     "output_type": "stream",
     "text": [
      "Nested Statements and Scope\n"
     ]
    }
   ],
   "source": [
    "print(\"Nested Statements and Scope\")"
   ]
  },
  {
   "cell_type": "code",
   "execution_count": 2,
   "metadata": {},
   "outputs": [],
   "source": [
    "x = 25\n",
    "\n",
    "def printer():\n",
    "    x = 50\n",
    "    return x\n"
   ]
  },
  {
   "cell_type": "code",
   "execution_count": 3,
   "metadata": {},
   "outputs": [
    {
     "name": "stdout",
     "output_type": "stream",
     "text": [
      "25\n"
     ]
    }
   ],
   "source": [
    "print(x)"
   ]
  },
  {
   "cell_type": "code",
   "execution_count": 4,
   "metadata": {},
   "outputs": [
    {
     "data": {
      "text/plain": [
       "50"
      ]
     },
     "execution_count": 4,
     "metadata": {},
     "output_type": "execute_result"
    }
   ],
   "source": [
    "printer()"
   ]
  },
  {
   "cell_type": "code",
   "execution_count": 5,
   "metadata": {},
   "outputs": [
    {
     "name": "stdout",
     "output_type": "stream",
     "text": [
      "50\n"
     ]
    }
   ],
   "source": [
    "print(printer())"
   ]
  },
  {
   "cell_type": "code",
   "execution_count": 7,
   "metadata": {},
   "outputs": [
    {
     "name": "stdout",
     "output_type": "stream",
     "text": [
      "L:Local -- Names assigned in any way within a function (def or lambda), and not declared global in that function.\n",
      " E: Enclosing function locals -- Names in the local scope of any and all enclosing functions (def or lambda), from inner to outer.\n",
      "G: Global (module) -- Names assigned at the top-level of a module, or declared global in a def within the file.\n",
      " B: Built-in (Python) -- Names preassigned in the built-in names module: open, range, syntax\n"
     ]
    }
   ],
   "source": [
    "print(\"L:Local -- Names assigned in any way within a function (def or lambda), and not declared global in that function.\\n E: Enclosing function locals -- Names in the local scope of any and all enclosing functions (def or lambda), from inner to outer.\\nG: Global (module) -- Names assigned at the top-level of a module, or declared global in a def within the file.\\n B: Built-in (Python) -- Names preassigned in the built-in names module: open, range, syntax\")"
   ]
  },
  {
   "cell_type": "code",
   "execution_count": 8,
   "metadata": {},
   "outputs": [
    {
     "name": "stdout",
     "output_type": "stream",
     "text": [
      "Local Example\n"
     ]
    }
   ],
   "source": [
    "print(\"Local Example\")"
   ]
  },
  {
   "cell_type": "code",
   "execution_count": 10,
   "metadata": {},
   "outputs": [],
   "source": [
    "#lambda num:num **2"
   ]
  },
  {
   "cell_type": "code",
   "execution_count": 15,
   "metadata": {},
   "outputs": [
    {
     "name": "stdout",
     "output_type": "stream",
     "text": [
      "Hello, I'm a local.\n"
     ]
    }
   ],
   "source": [
    "# Global\n",
    "name = \"This is a global string\"\n",
    "\n",
    "def greet():\n",
    "    \n",
    "    # Enclosing\n",
    "    name = \"Sammy\"\n",
    "    \n",
    "    def hello():\n",
    "        # Local\n",
    "        name = \"I'm a local.\"\n",
    "        print(\"Hello, \" +name)\n",
    "        \n",
    "    hello()\n",
    "\n",
    "greet()"
   ]
  },
  {
   "cell_type": "code",
   "execution_count": 27,
   "metadata": {},
   "outputs": [],
   "source": [
    "x = 50\n",
    "\n",
    "def func():\n",
    "    global x\n",
    "    print(f\"X is {x}\")\n",
    "    \n",
    "    #Local reassignment on a global variable\n",
    "    x = \"NEW VALUE\"\n",
    "    print(f\"I just locally changed x to {x}\")"
   ]
  },
  {
   "cell_type": "code",
   "execution_count": 28,
   "metadata": {},
   "outputs": [
    {
     "name": "stdout",
     "output_type": "stream",
     "text": [
      "X is 50\n",
      "I just locally changed x to NEW VALUE\n",
      "NEW VALUE\n"
     ]
    }
   ],
   "source": [
    "func()\n",
    "print(x)"
   ]
  },
  {
   "cell_type": "code",
   "execution_count": null,
   "metadata": {},
   "outputs": [],
   "source": []
  }
 ],
 "metadata": {
  "kernelspec": {
   "display_name": "Python 3",
   "language": "python",
   "name": "python3"
  },
  "language_info": {
   "codemirror_mode": {
    "name": "ipython",
    "version": 3
   },
   "file_extension": ".py",
   "mimetype": "text/x-python",
   "name": "python",
   "nbconvert_exporter": "python",
   "pygments_lexer": "ipython3",
   "version": "3.8.3"
  }
 },
 "nbformat": 4,
 "nbformat_minor": 4
}
